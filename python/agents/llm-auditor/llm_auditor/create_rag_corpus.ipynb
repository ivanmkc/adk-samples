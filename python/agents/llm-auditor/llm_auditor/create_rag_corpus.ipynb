{
 "cells": [
  {
   "cell_type": "code",
   "execution_count": null,
   "id": "9281bc66",
   "metadata": {},
   "outputs": [],
   "source": [
    "# Upload local folder to GCS\n",
    "local_root_path = \"/Users/ivanmkc/code/adk-samples/output/companies\"\n",
    "\n",
    "\n",
    "# Copy\n",
    "gcs_path = \"gs://ivanmkc-test3/synthetic_data/companies/\""
   ]
  },
  {
   "cell_type": "code",
   "execution_count": null,
   "id": "0ed46705",
   "metadata": {},
   "outputs": [],
   "source": [
    "! gsutil -m cp -r {local_root_path} {gcs_path}"
   ]
  },
  {
   "cell_type": "code",
   "execution_count": 7,
   "id": "2bd716bd",
   "metadata": {},
   "outputs": [
    {
     "data": {
      "text/plain": [
       "imported_rag_files_count: 416"
      ]
     },
     "execution_count": 7,
     "metadata": {},
     "output_type": "execute_result"
    }
   ],
   "source": [
    "from vertexai import rag\n",
    "from vertexai.generative_models import GenerativeModel, Tool\n",
    "import vertexai\n",
    "\n",
    "# Create a RAG Corpus, Import Files, and Generate a response\n",
    "\n",
    "# TODO(developer): Update and un-comment below lines\n",
    "# PROJECT_ID = \"your-project-id\"\n",
    "# display_name = \"test_corpus\"\n",
    "# paths = [\"https://drive.google.com/file/d/123\", \"gs://my_bucket/my_files_dir\"]  # Supports Google Cloud Storage and Google Drive Links\n",
    "\n",
    "# Initialize Vertex AI API once per session\n",
    "PROJECT_ID = \"ivanmkc-test\"\n",
    "vertexai.init(project=PROJECT_ID, location=\"us-central1\")\n",
    "\n",
    "display_name = \"fake-companies\"\n",
    "paths = [gcs_path]\n",
    "vertexai.init()\n",
    "\n",
    "# Create RagCorpus\n",
    "# Configure embedding model, for example \"text-embedding-005\".\n",
    "embedding_model_config = rag.RagEmbeddingModelConfig(\n",
    "    vertex_prediction_endpoint=rag.VertexPredictionEndpoint(\n",
    "        publisher_model=\"publishers/google/models/text-embedding-005\"\n",
    "    )\n",
    ")\n",
    "\n",
    "rag_corpus = rag.create_corpus(\n",
    "    display_name=display_name,\n",
    "    backend_config=rag.RagVectorDbConfig(\n",
    "        rag_embedding_model_config=embedding_model_config\n",
    "    ),\n",
    ")\n",
    "\n",
    "# Import Files to the RagCorpus\n",
    "rag.import_files(\n",
    "    rag_corpus.name,\n",
    "    paths,\n",
    "    # Optional\n",
    "    transformation_config=rag.TransformationConfig(\n",
    "        chunking_config=rag.ChunkingConfig(\n",
    "            chunk_size=512,\n",
    "            chunk_overlap=100,\n",
    "        ),\n",
    "    ),\n",
    "    max_embedding_requests_per_min=1000,  # Optional\n",
    ")\n"
   ]
  },
  {
   "cell_type": "code",
   "execution_count": 9,
   "id": "b4fe911c",
   "metadata": {},
   "outputs": [
    {
     "data": {
      "text/plain": [
       "'projects/169190568756/locations/us-central1/ragCorpora/1152921504606846976'"
      ]
     },
     "execution_count": 9,
     "metadata": {},
     "output_type": "execute_result"
    }
   ],
   "source": [
    "rag_corpus.name"
   ]
  },
  {
   "cell_type": "code",
   "execution_count": null,
   "id": "ce00076c",
   "metadata": {},
   "outputs": [],
   "source": []
  }
 ],
 "metadata": {
  "kernelspec": {
   "display_name": "env",
   "language": "python",
   "name": "python3"
  },
  "language_info": {
   "codemirror_mode": {
    "name": "ipython",
    "version": 3
   },
   "file_extension": ".py",
   "mimetype": "text/x-python",
   "name": "python",
   "nbconvert_exporter": "python",
   "pygments_lexer": "ipython3",
   "version": "3.11.9"
  }
 },
 "nbformat": 4,
 "nbformat_minor": 5
}
